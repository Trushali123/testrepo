{
 "cells": [
  {
   "cell_type": "markdown",
   "id": "ce48655f",
   "metadata": {},
   "source": [
    "# My Jupyter Notebook on IBM Watson Studio"
   ]
  },
  {
   "cell_type": "markdown",
   "id": "67457709",
   "metadata": {},
   "source": [
    "Trushali Ramoliya"
   ]
  },
  {
   "cell_type": "markdown",
   "id": "f1920fbe",
   "metadata": {},
   "source": [
    "_Hey, I wanted to become data scientist because I loved it._"
   ]
  },
  {
   "cell_type": "markdown",
   "id": "17a3a8f8",
   "metadata": {},
   "source": [
    "###  It will add the two numbers"
   ]
  },
  {
   "cell_type": "code",
   "execution_count": 32,
   "id": "612016b2",
   "metadata": {},
   "outputs": [
    {
     "name": "stdout",
     "output_type": "stream",
     "text": [
      "2\n",
      "1\n"
     ]
    }
   ],
   "source": [
    "a = 1\n",
    "b = 1\n",
    "print (a+b)\n",
    "print (a*b)"
   ]
  },
  {
   "cell_type": "markdown",
   "id": "87b1aa30",
   "metadata": {},
   "source": [
    "1. item one  \n",
    "2. item two\n",
    "3. item three"
   ]
  },
  {
   "cell_type": "markdown",
   "id": "1d63acd5",
   "metadata": {},
   "source": [
    "* item list\n",
    "* item 1\n",
    "* item 2"
   ]
  },
  {
   "cell_type": "markdown",
   "id": "323213cc",
   "metadata": {},
   "source": [
    "[link for w3 school](https://www.w3schools.com/)"
   ]
  }
 ],
 "metadata": {
  "kernelspec": {
   "display_name": "Python 3 (ipykernel)",
   "language": "python",
   "name": "python3"
  },
  "language_info": {
   "codemirror_mode": {
    "name": "ipython",
    "version": 3
   },
   "file_extension": ".py",
   "mimetype": "text/x-python",
   "name": "python",
   "nbconvert_exporter": "python",
   "pygments_lexer": "ipython3",
   "version": "3.9.13"
  }
 },
 "nbformat": 4,
 "nbformat_minor": 5
}
