{
 "cells": [
  {
   "cell_type": "markdown",
   "id": "b93475a9",
   "metadata": {},
   "source": [
    "# My Jupyter Notebook on IBM Watson Studio"
   ]
  },
  {
   "cell_type": "markdown",
   "id": "cc7ba0cc",
   "metadata": {},
   "source": [
    "Trushali Ramoliya"
   ]
  },
  {
   "cell_type": "markdown",
   "id": "09c59378",
   "metadata": {},
   "source": [
    "_Hey, I wanted to become data scientist because I loved it._"
   ]
  },
  {
   "cell_type": "markdown",
   "id": "3bdcfb89",
   "metadata": {},
   "source": [
    "###  It will add the two numbers"
   ]
  },
  {
   "cell_type": "code",
   "execution_count": 22,
   "id": "77bc10b1",
   "metadata": {},
   "outputs": [
    {
     "data": {
      "text/plain": [
       "2"
      ]
     },
     "execution_count": 22,
     "metadata": {},
     "output_type": "execute_result"
    }
   ],
   "source": [
    "1+1"
   ]
  },
  {
   "cell_type": "markdown",
   "id": "148c8c23",
   "metadata": {},
   "source": [
    "1. item one  \n",
    "2. item two\n",
    "3. item three"
   ]
  },
  {
   "cell_type": "markdown",
   "id": "437bf38d",
   "metadata": {},
   "source": [
    "* item list\n",
    "* item 1\n",
    "* item 2"
   ]
  },
  {
   "cell_type": "markdown",
   "id": "b61669ff",
   "metadata": {},
   "source": [
    "[link for w3 school](https://www.w3schools.com/)"
   ]
  }
 ],
 "metadata": {
  "kernelspec": {
   "display_name": "Python 3 (ipykernel)",
   "language": "python",
   "name": "python3"
  },
  "language_info": {
   "codemirror_mode": {
    "name": "ipython",
    "version": 3
   },
   "file_extension": ".py",
   "mimetype": "text/x-python",
   "name": "python",
   "nbconvert_exporter": "python",
   "pygments_lexer": "ipython3",
   "version": "3.9.13"
  }
 },
 "nbformat": 4,
 "nbformat_minor": 5
}
